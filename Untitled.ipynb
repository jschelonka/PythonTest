{
 "cells": [
  {
   "cell_type": "code",
   "execution_count": 2,
   "id": "031db0d1",
   "metadata": {},
   "outputs": [
    {
     "name": "stdout",
     "output_type": "stream",
     "text": [
      "Hello World\n"
     ]
    }
   ],
   "source": [
    "print('Hello World')"
   ]
  },
  {
   "cell_type": "code",
   "execution_count": 3,
   "id": "fb7565cb",
   "metadata": {},
   "outputs": [
    {
     "data": {
      "text/plain": [
       "13"
      ]
     },
     "execution_count": 3,
     "metadata": {},
     "output_type": "execute_result"
    }
   ],
   "source": [
    "3+10"
   ]
  },
  {
   "cell_type": "code",
   "execution_count": 4,
   "id": "9547cf42",
   "metadata": {},
   "outputs": [
    {
     "name": "stdout",
     "output_type": "stream",
     "text": [
      "8\n"
     ]
    }
   ],
   "source": [
    "a=3\n",
    "b=5\n",
    "print(a+b)"
   ]
  },
  {
   "cell_type": "code",
   "execution_count": 5,
   "id": "262a8f38",
   "metadata": {},
   "outputs": [
    {
     "name": "stdout",
     "output_type": "stream",
     "text": [
      "Jacob\n"
     ]
    }
   ],
   "source": [
    "print('Jacob')"
   ]
  },
  {
   "cell_type": "code",
   "execution_count": 7,
   "id": "8e7d7445",
   "metadata": {},
   "outputs": [
    {
     "name": "stdout",
     "output_type": "stream",
     "text": [
      "Jacob\n"
     ]
    }
   ],
   "source": [
    "a='Jac'\n",
    "b='ob'\n",
    "print(a+b)"
   ]
  },
  {
   "cell_type": "markdown",
   "id": "c73a28db",
   "metadata": {},
   "source": [
    "# Heading1"
   ]
  },
  {
   "cell_type": "markdown",
   "id": "9b540adc",
   "metadata": {},
   "source": [
    "## Heading 1"
   ]
  },
  {
   "cell_type": "markdown",
   "id": "1e6f71e3",
   "metadata": {},
   "source": [
    "## Heading2\n"
   ]
  },
  {
   "cell_type": "markdown",
   "id": "28d4f3e7",
   "metadata": {},
   "source": [
    "### Heading3"
   ]
  },
  {
   "cell_type": "markdown",
   "id": "e02f04ed",
   "metadata": {},
   "source": [
    "#### Heading4"
   ]
  },
  {
   "cell_type": "markdown",
   "id": "03a9bc5a",
   "metadata": {},
   "source": [
    "* test1"
   ]
  },
  {
   "cell_type": "code",
   "execution_count": 9,
   "id": "d03f4ff9",
   "metadata": {},
   "outputs": [
    {
     "ename": "SyntaxError",
     "evalue": "invalid syntax (<ipython-input-9-8f1be9378147>, line 1)",
     "output_type": "error",
     "traceback": [
      "\u001b[1;36m  File \u001b[1;32m\"<ipython-input-9-8f1be9378147>\"\u001b[1;36m, line \u001b[1;32m1\u001b[0m\n\u001b[1;33m    1. test2\u001b[0m\n\u001b[1;37m       ^\u001b[0m\n\u001b[1;31mSyntaxError\u001b[0m\u001b[1;31m:\u001b[0m invalid syntax\n"
     ]
    }
   ],
   "source": [
    "1. test2"
   ]
  },
  {
   "cell_type": "markdown",
   "id": "6c87f932",
   "metadata": {},
   "source": [
    "1. one\n",
    "2. two"
   ]
  },
  {
   "cell_type": "markdown",
   "id": "e67a41b8",
   "metadata": {},
   "source": [
    "*1. one"
   ]
  },
  {
   "cell_type": "markdown",
   "id": "886e07f5",
   "metadata": {},
   "source": [
    "** bold **"
   ]
  },
  {
   "cell_type": "markdown",
   "id": "42222465",
   "metadata": {},
   "source": [
    "**bold**"
   ]
  },
  {
   "cell_type": "markdown",
   "id": "4ec89514",
   "metadata": {},
   "source": [
    "*italics*"
   ]
  },
  {
   "cell_type": "markdown",
   "id": "b2113fa1",
   "metadata": {},
   "source": [
    "`Printing statements!`"
   ]
  },
  {
   "cell_type": "markdown",
   "id": "0f2af521",
   "metadata": {},
   "source": [
    "`Github` *can be found at*\n",
    "<a href=\"https://github.com/login?\">`this link`</a>"
   ]
  },
  {
   "cell_type": "markdown",
   "id": "eb23354f",
   "metadata": {},
   "source": [
    "![Python Logo](https://www.python.org/static/community_logos/python-logo-master-v3-TM.png)"
   ]
  },
  {
   "cell_type": "markdown",
   "id": "5654c1ba",
   "metadata": {},
   "source": [
    "![Python Logo](https://www.google.com/url?sa=i&url=https%3A%2F%2Fwww.nytimes.com%2F2020%2F10%2F29%2Fclimate%2Fwolves-endangered-species-list.html&psig=AOvVaw0l3toLPtltJj9jS3PcYoGk&ust=1629919696030000&source=images&cd=vfe&ved=0CAsQjRxqFwoTCJDEupeyyvICFQAAAAAdAAAAABAD)"
   ]
  },
  {
   "cell_type": "code",
   "execution_count": 10,
   "id": "1284d1d5",
   "metadata": {},
   "outputs": [
    {
     "name": "stderr",
     "output_type": "stream",
     "text": [
      "'[]' is not recognized as an internal or external command,\n",
      "operable program or batch file.\n",
      "'auto' is not recognized as an internal or external command,\n",
      "operable program or batch file.\n",
      "'disable' is not recognized as an internal or external command,\n",
      "operable program or batch file.\n"
     ]
    }
   ],
   "source": [
    "![](https://static01.nyt.com/images/2020/10/29/climate/29CLI-WOLVES1/merlin_179246919_d7eaf5a5-935a-4eb7-92a8-000c29bc9d0c-articleLarge.jpg?quality=75&auto=webp&disable=upscale)"
   ]
  },
  {
   "cell_type": "markdown",
   "id": "88777867",
   "metadata": {},
   "source": [
    "![](https://static01.nyt.com/images/2020/10/29/climate/29CLI-WOLVES1/merlin_179246919_d7eaf5a5-935a-4eb7-92a8-000c29bc9d0c-articleLarge.jpg?quality=75&auto=webp&disable=upscale)"
   ]
  },
  {
   "cell_type": "code",
   "execution_count": null,
   "id": "e8f5202f",
   "metadata": {},
   "outputs": [],
   "source": []
  }
 ],
 "metadata": {
  "kernelspec": {
   "display_name": "Python 3",
   "language": "python",
   "name": "python3"
  },
  "language_info": {
   "codemirror_mode": {
    "name": "ipython",
    "version": 3
   },
   "file_extension": ".py",
   "mimetype": "text/x-python",
   "name": "python",
   "nbconvert_exporter": "python",
   "pygments_lexer": "ipython3",
   "version": "3.8.8"
  }
 },
 "nbformat": 4,
 "nbformat_minor": 5
}
